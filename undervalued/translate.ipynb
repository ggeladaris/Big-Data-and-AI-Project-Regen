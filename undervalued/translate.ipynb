{
 "cells": [
  {
   "cell_type": "code",
   "execution_count": null,
   "metadata": {},
   "outputs": [],
   "source": [
    "import pandas as pd\n",
    "\n",
    "\n",
    "df=pd.read_csv('reviews1.csv')\n",
    "\n",
    "under=pd.read_csv('undervalued_true.csv')\n",
    "id_dict=under.to_dict()\n",
    "clean_df=df[df['listing_id'].isin(under['id'])].copy()\n",
    "to_edit=clean_df.groupby(['listing_id'])['comments'].apply(list)\n",
    "doc=to_edit.iloc[0]"
   ]
  },
  {
   "cell_type": "code",
   "execution_count": null,
   "metadata": {},
   "outputs": [],
   "source": [
    "key = \"1769ebac20bf4a02abdad7f27d590df7\"\n",
    "endpoint = \"https://tryy.cognitiveservices.azure.com/\"\n",
    "\n",
    "\n",
    "from azure.ai.textanalytics import TextAnalyticsClient\n",
    "from azure.core.credentials import AzureKeyCredential\n",
    "\n",
    "def authenticate_client():\n",
    "    ta_credential = AzureKeyCredential(key)\n",
    "    text_analytics_client = TextAnalyticsClient(\n",
    "            endpoint=endpoint, \n",
    "            credential=ta_credential)\n",
    "    return text_analytics_client\n",
    "\n",
    "client = authenticate_client()\n"
   ]
  },
  {
   "cell_type": "code",
   "execution_count": 153,
   "metadata": {},
   "outputs": [
    {
     "name": "stdout",
     "output_type": "stream",
     "text": [
      "[16.439999999999998, 2.32, 0.22000000000000003]\n",
      "[16.65, 2.84, 0.5]\n",
      "[235.03, 46.64000000000002, 12.339999999999979]\n",
      "[296.33000000000004, 53.30000000000002, 19.39000000000003]\n"
     ]
    }
   ],
   "source": [
    "\n",
    "\n",
    "def sentiment_analysis_example(client, documents, re):\n",
    "\n",
    "    response = client.analyze_sentiment(documents=documents)\n",
    "    for r in response:\n",
    "        to_div=0\n",
    "        poss=0\n",
    "        neuu=0\n",
    "        negg=0\n",
    "        \n",
    "        for idx, sentence in enumerate(r.sentences):\n",
    "            docu =[sentence.text]\n",
    "            response_lang = client.detect_language(documents = docu, country_hint = 'gr')[0]\n",
    "            if ( response_lang.primary_language.name=='English'):\n",
    "                # print(\"Sentence: {}\".format(sentence.text))\n",
    "                # print(\"Sentence {} sentiment: {}\".format(idx+1, sentence.sentiment))\n",
    "                # print(\"Sentence score:\\nPositive={0:.2f}\\nNeutral={1:.2f}\\nNegative={2:.2f}\\n\".format(\n",
    "                #     sentence.confidence_scores.positive,\n",
    "                #     sentence.confidence_scores.neutral,\n",
    "                #     sentence.confidence_scores.negative))\n",
    "                \n",
    "                poss = poss+round(sentence.confidence_scores.positive,2)\n",
    "                neuu = neuu+round(sentence.confidence_scores.neutral,2)\n",
    "                negg = negg+round(sentence.confidence_scores.negative,2)\n",
    "                to_div=to_div+1\n",
    "        \n",
    "        if (to_div!=0):\n",
    "            \n",
    "            re[0]=re[0]+round(poss/to_div,2)\n",
    "            re[1]=re[1]+round(neuu/to_div,2)\n",
    "            re[2]=re[2]+round(negg/to_div,2)\n",
    "            \n",
    "\n",
    "        # print('-'*8)\n",
    "    return re\n",
    "\n",
    "dict={}\n",
    "for j in range(0,4):\n",
    "# len(to_edit)+1):\n",
    "    doc=to_edit.iloc[j]\n",
    "    num_rev = np.shape(doc)[0]\n",
    "\n",
    "    res = [0, 0, 0]\n",
    "    for i in range(0, num_rev, 10):\n",
    "        sentiment_analysis_example(client, doc[i:i+10], res)\n",
    "\n",
    "\n",
    "    x = num_rev % 10\n",
    "    if x != 0:\n",
    "        sentiment_analysis_example(client, doc[num_rev-x:num_rev+1], res)\n",
    "\n",
    "    print(res)\n",
    "    dict[to_edit.index[j]]=np.divide(res,num_rev)"
   ]
  }
 ],
 "metadata": {
  "interpreter": {
   "hash": "d47f7eeeef57ce439088e1765bd6d5120197cae4068d3eea109384b8b12c2d72"
  },
  "kernelspec": {
   "display_name": "Python 3.8.8 64-bit ('base': conda)",
   "language": "python",
   "name": "python3"
  },
  "language_info": {
   "codemirror_mode": {
    "name": "ipython",
    "version": 3
   },
   "file_extension": ".py",
   "mimetype": "text/x-python",
   "name": "python",
   "nbconvert_exporter": "python",
   "pygments_lexer": "ipython3",
   "version": "3.8.8"
  },
  "orig_nbformat": 4
 },
 "nbformat": 4,
 "nbformat_minor": 2
}
